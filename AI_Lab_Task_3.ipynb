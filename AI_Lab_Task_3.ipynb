{
  "nbformat": 4,
  "nbformat_minor": 0,
  "metadata": {
    "colab": {
      "name": "AI Lab Task_3.ipynb",
      "provenance": [],
      "authorship_tag": "ABX9TyOWStR/QHh+FP3EZ/odAvHI",
      "include_colab_link": true
    },
    "kernelspec": {
      "name": "python3",
      "display_name": "Python 3"
    },
    "language_info": {
      "name": "python"
    }
  },
  "cells": [
    {
      "cell_type": "markdown",
      "metadata": {
        "id": "view-in-github",
        "colab_type": "text"
      },
      "source": [
        "<a href=\"https://colab.research.google.com/github/redwan-muhammad88/Web-Lab_SP21-html_project-/blob/main/AI_Lab_Task_3.ipynb\" target=\"_parent\"><img src=\"https://colab.research.google.com/assets/colab-badge.svg\" alt=\"Open In Colab\"/></a>"
      ]
    },
    {
      "cell_type": "code",
      "metadata": {
        "id": "GUQIkiFxudaQ",
        "colab": {
          "base_uri": "https://localhost:8080/"
        },
        "outputId": "cbbb6a01-c0e5-4f7d-c043-7191a8e44a4e"
      },
      "source": [
        "data = []\n",
        "choice = 'random'\n",
        "\n",
        "def line():\n",
        "  print('.......................')\n",
        "def show_menu():\n",
        "  line()\n",
        "  print('MENU')\n",
        "  line()\n",
        "  print('1. Add subject for this semester ')\n",
        "  print('2. Remove subject from this semester ')\n",
        "  print('3. View all courses ')\n",
        "  print('4. Exit')\n",
        "  line();\n",
        "  choice = input('Enter a choice ')\n",
        "  return choice \n",
        "\n",
        "while choice !='4':\n",
        "    choice = show_menu()\n",
        "    if choice == '1':\n",
        "      sub = input('Add courses of the semester ')\n",
        "      data.append(sub)\n",
        "      print('Subject', sub, 'added')\n",
        "    elif choice == '2':\n",
        "        sub = input('Enter the code for remove the course ')\n",
        "        if sub in data: \n",
        "          data.remove(sub)\n",
        "          print('Subject removed', sub)\n",
        "        else:\n",
        "            print('Could not found the subject', sub)\n",
        "    elif choice == '3':\n",
        "        print('All courses ')\n",
        "        for sub in data:\n",
        "            print(sub)\n",
        "    elif choice == '4':\n",
        "        print('bye!')\n",
        "    else:\n",
        "        print('Enter one of 1, 2, 3 or 4')\n"
      ],
      "execution_count": 15,
      "outputs": [
        {
          "output_type": "stream",
          "text": [
            ".......................\n",
            "MENU\n",
            ".......................\n",
            "1. Add subject for this semester \n",
            "2. Remove subject from this semester \n",
            "3. View all courses \n",
            "4. Exit\n",
            ".......................\n",
            "Enter a choice 3\n",
            "All courses \n",
            ".......................\n",
            "MENU\n",
            ".......................\n",
            "1. Add subject for this semester \n",
            "2. Remove subject from this semester \n",
            "3. View all courses \n",
            "4. Exit\n",
            ".......................\n",
            "Enter a choice 1\n",
            "Add courses of the semester CSE12\n",
            "Subject CSE12 added\n",
            ".......................\n",
            "MENU\n",
            ".......................\n",
            "1. Add subject for this semester \n",
            "2. Remove subject from this semester \n",
            "3. View all courses \n",
            "4. Exit\n",
            ".......................\n",
            "Enter a choice 1\n",
            "Add courses of the semester CSE13\n",
            "Subject CSE13 added\n",
            ".......................\n",
            "MENU\n",
            ".......................\n",
            "1. Add subject for this semester \n",
            "2. Remove subject from this semester \n",
            "3. View all courses \n",
            "4. Exit\n",
            ".......................\n",
            "Enter a choice 3\n",
            "All courses \n",
            "CSE12\n",
            "CSE13\n",
            ".......................\n",
            "MENU\n",
            ".......................\n",
            "1. Add subject for this semester \n",
            "2. Remove subject from this semester \n",
            "3. View all courses \n",
            "4. Exit\n",
            ".......................\n",
            "Enter a choice 2\n",
            "Enter the code for remove the course CSE12\n",
            "Subject removed CSE12\n",
            ".......................\n",
            "MENU\n",
            ".......................\n",
            "1. Add subject for this semester \n",
            "2. Remove subject from this semester \n",
            "3. View all courses \n",
            "4. Exit\n",
            ".......................\n",
            "Enter a choice 4\n",
            "bye!\n"
          ],
          "name": "stdout"
        }
      ]
    }
  ]
}